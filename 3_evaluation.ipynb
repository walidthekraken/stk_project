{
 "cells": [
  {
   "cell_type": "code",
   "execution_count": 1,
   "metadata": {},
   "outputs": [],
   "source": [
    "from master_dac.rld import stk"
   ]
  },
  {
   "cell_type": "code",
   "execution_count": 2,
   "metadata": {},
   "outputs": [
    {
     "name": "stdout",
     "output_type": "stream",
     "text": [
      "..:: Antarctica Rendering Engine 2.0 ::..\n"
     ]
    },
    {
     "name": "stderr",
     "output_type": "stream",
     "text": [
      "/Users/walidthekraken/VISA FRANCE/M2/RLD/stk_project/stk_actor/wrappers.py:119: FutureWarning: You are using `torch.load` with `weights_only=False` (the current default value), which uses the default pickle module implicitly. It is possible to construct malicious pickle data which will execute arbitrary code during unpickling (See https://github.com/pytorch/pytorch/blob/main/SECURITY.md#untrusted-models for more details). In a future release, the default value for `weights_only` will be flipped to `True`. This limits the functions that could be executed during unpickling. Arbitrary objects will no longer be allowed to be loaded via this mode unless they are explicitly allowlisted by the user via `torch.serialization.add_safe_globals`. We recommend you start setting `weights_only=True` for any use case where you don't have full control of the loaded file. Please open an issue on GitHub for any issues related to this experimental feature.\n",
      "  self.mean = torch.load(mod_path/'buffer_mean', map_location='cpu')\n",
      "/Users/walidthekraken/VISA FRANCE/M2/RLD/stk_project/stk_actor/wrappers.py:120: FutureWarning: You are using `torch.load` with `weights_only=False` (the current default value), which uses the default pickle module implicitly. It is possible to construct malicious pickle data which will execute arbitrary code during unpickling (See https://github.com/pytorch/pytorch/blob/main/SECURITY.md#untrusted-models for more details). In a future release, the default value for `weights_only` will be flipped to `True`. This limits the functions that could be executed during unpickling. Arbitrary objects will no longer be allowed to be loaded via this mode unless they are explicitly allowlisted by the user via `torch.serialization.add_safe_globals`. We recommend you start setting `weights_only=True` for any use case where you don't have full control of the loaded file. Please open an issue on GitHub for any issues related to this experimental feature.\n",
      "  self.std = torch.load(mod_path/'buffer_std', map_location='cpu')\n",
      "/opt/homebrew/Caskroom/miniforge/base/envs/bbrl/lib/python3.10/site-packages/stable_baselines3/ppo/ppo.py:155: UserWarning: You have specified a mini-batch size of 64, but because the `RolloutBuffer` is of size `n_steps * n_envs = 5`, after every 0 untruncated mini-batches, there will be a truncated mini-batch of size 5\n",
      "We recommend using a `batch_size` that is a factor of `n_steps * n_envs`.\n",
      "Info: (n_steps=5 and n_envs=1)\n",
      "  warnings.warn(\n"
     ]
    },
    {
     "name": "stdout",
     "output_type": "stream",
     "text": [
      "Using cpu device\n"
     ]
    },
    {
     "name": "stderr",
     "output_type": "stream",
     "text": [
      "/var/folders/5b/wsyz4crx22bg_7tpsgbw3tzw0000gn/T/ipykernel_8303/1675744499.py:45: FutureWarning: You are using `torch.load` with `weights_only=False` (the current default value), which uses the default pickle module implicitly. It is possible to construct malicious pickle data which will execute arbitrary code during unpickling (See https://github.com/pytorch/pytorch/blob/main/SECURITY.md#untrusted-models for more details). In a future release, the default value for `weights_only` will be flipped to `True`. This limits the functions that could be executed during unpickling. Arbitrary objects will no longer be allowed to be loaded via this mode unless they are explicitly allowlisted by the user via `torch.serialization.add_safe_globals`. We recommend you start setting `weights_only=True` for any use case where you don't have full control of the loaded file. Please open an issue on GitHub for any issues related to this experimental feature.\n",
      "  unified_policy.load_state_dict(torch.load(filename))\n",
      "/var/folders/5b/wsyz4crx22bg_7tpsgbw3tzw0000gn/T/ipykernel_8303/1675744499.py:51: FutureWarning: You are using `torch.load` with `weights_only=False` (the current default value), which uses the default pickle module implicitly. It is possible to construct malicious pickle data which will execute arbitrary code during unpickling (See https://github.com/pytorch/pytorch/blob/main/SECURITY.md#untrusted-models for more details). In a future release, the default value for `weights_only` will be flipped to `True`. This limits the functions that could be executed during unpickling. Arbitrary objects will no longer be allowed to be loaded via this mode unless they are explicitly allowlisted by the user via `torch.serialization.add_safe_globals`. We recommend you start setting `weights_only=True` for any use case where you don't have full control of the loaded file. Please open an issue on GitHub for any issues related to this experimental feature.\n",
      "  mean = torch.load('buffer_mean', map_location='cpu')\n",
      "/var/folders/5b/wsyz4crx22bg_7tpsgbw3tzw0000gn/T/ipykernel_8303/1675744499.py:52: FutureWarning: You are using `torch.load` with `weights_only=False` (the current default value), which uses the default pickle module implicitly. It is possible to construct malicious pickle data which will execute arbitrary code during unpickling (See https://github.com/pytorch/pytorch/blob/main/SECURITY.md#untrusted-models for more details). In a future release, the default value for `weights_only` will be flipped to `True`. This limits the functions that could be executed during unpickling. Arbitrary objects will no longer be allowed to be loaded via this mode unless they are explicitly allowlisted by the user via `torch.serialization.add_safe_globals`. We recommend you start setting `weights_only=True` for any use case where you don't have full control of the loaded file. Please open an issue on GitHub for any issues related to this experimental feature.\n",
      "  std = torch.load('buffer_std', map_location='cpu')\n"
     ]
    }
   ],
   "source": [
    "from stable_baselines3 import PPO, A2C\n",
    "from stable_baselines3.common.env_util import make_vec_env\n",
    "from stk_actor.agent import UnifiedSACPolicy\n",
    "from stk_actor.wrappers import PreprocessObservationWrapper\n",
    "import torch\n",
    "\n",
    "from pystk2_gymnasium import AgentSpec\n",
    "\n",
    "vec_env = make_vec_env(\"supertuxkart/flattened_multidiscrete-v0\", seed=0,\n",
    "                        # wrapper_class=lambda x : ObsTimeExtensionWrapper(PreprocessObservationWrapper(x)), \n",
    "                        wrapper_class=lambda x : (PreprocessObservationWrapper(x)), \n",
    "                       n_envs=1, env_kwargs={\n",
    "    'render_mode':None, 'agent':AgentSpec(use_ai=False, name=\"walid\"),  #'track':'abyss', #'num_kart':2, 'difficulty':0\n",
    "})\n",
    "\n",
    "# net_arch=[512,512,512]\n",
    "# activation_fn=torch.nn.SiLU\n",
    "# filename = 'policy_512_512_512_SiLU_2_statedict'\n",
    "\n",
    "# net_arch=[512,512,512,512,512]\n",
    "net_arch=[1024,1024,1024]\n",
    "activation_fn=torch.nn.Tanh\n",
    "# filename = 'policy_512_512_512_512_SiLU_3_statedict'\n",
    "# filename = 'airl_policy_512_512_512_512_SiLU_statedict'\n",
    "# filename = 'policy_normed_512_512_512_512_SiLU_statedict'\n",
    "# filename = 'policy_normed_128_128_SiLU_statedict'\n",
    "filename = 'policy_normed_1024_1024_1024_Tanh_statedict'\n",
    "\n",
    "model = PPO(\n",
    "        \"MlpPolicy\", \n",
    "        vec_env, \n",
    "        verbose=1, \n",
    "        policy_kwargs = dict(net_arch=net_arch, activation_fn=activation_fn,), \n",
    "        device='cpu',\n",
    "        n_steps=5,\n",
    "        tensorboard_log=\"./outputs/\"\n",
    ")\n",
    "action_dims = [space.n for space in vec_env.action_space]\n",
    "unified_policy = UnifiedSACPolicy(\n",
    "    vec_env.observation_space, \n",
    "    action_dims, \n",
    "    net_arch=net_arch, \n",
    "    activation_fn=activation_fn\n",
    ")\n",
    "unified_policy.load_state_dict(torch.load(filename))\n",
    "model.policy.load_state_dict(unified_policy.shared.state_dict())\n",
    "# model.policy.load_state_dict(torch.load(filename))\n",
    "vec_env.close()\n",
    "# model = PPO.load(\"ppti_ppo_1500\", custom_objects={'policy_kwargs' :  dict(net_arch=net_arch, activation_fn=activation_fn), })\n",
    "model = PPO.load(\"ppti_ppo2_1024_batch128_clip01_ent0001\", custom_objects={'policy_kwargs' :  dict(net_arch=net_arch, activation_fn=activation_fn), })\n",
    "mean = torch.load('buffer_mean', map_location='cpu')\n",
    "std = torch.load('buffer_std', map_location='cpu')"
   ]
  },
  {
   "cell_type": "code",
   "execution_count": 3,
   "metadata": {},
   "outputs": [
    {
     "data": {
      "text/plain": [
       "OrderedDict([('mlp_extractor.policy_net.0.weight',\n",
       "              tensor([[-0.0517,  0.1053, -0.1528,  ...,  0.0874, -0.0312,  0.2022],\n",
       "                      [ 0.0108, -0.0161,  0.0005,  ...,  0.0709, -0.0334, -0.0778],\n",
       "                      [-0.0469,  0.1427,  0.0866,  ..., -0.0344,  0.1868,  0.1551],\n",
       "                      ...,\n",
       "                      [-0.1735,  0.0295, -0.0134,  ..., -0.1557, -0.1369, -0.0865],\n",
       "                      [ 0.1398,  0.1431, -0.2140,  ...,  0.0770, -0.0463, -0.1501],\n",
       "                      [-0.0193, -0.0695, -0.3339,  ...,  0.1387, -0.1212,  0.0193]])),\n",
       "             ('mlp_extractor.policy_net.0.bias',\n",
       "              tensor([ 0.1191,  0.3512, -0.5008,  ...,  0.4422, -0.4249, -0.4465])),\n",
       "             ('mlp_extractor.policy_net.2.weight',\n",
       "              tensor([[ 0.2439, -0.0286, -0.0594,  ...,  0.1734,  0.1249, -0.0187],\n",
       "                      [-0.2689,  0.2392,  0.4162,  ...,  0.0909, -0.2094, -0.0843],\n",
       "                      [ 0.2172, -0.1364, -0.0695,  ...,  0.2839,  0.2427,  0.0959],\n",
       "                      ...,\n",
       "                      [-0.1619, -0.0171, -0.0098,  ...,  0.2745, -0.1106,  0.0840],\n",
       "                      [-0.0259, -0.0272,  0.0236,  ...,  0.4352, -0.1361, -0.0669],\n",
       "                      [ 0.1134,  0.0156,  0.1699,  ...,  0.2466, -0.1056,  0.2385]])),\n",
       "             ('mlp_extractor.policy_net.2.bias',\n",
       "              tensor([-0.3225,  0.2780,  0.4157,  ...,  0.2432,  0.5462, -0.2402])),\n",
       "             ('mlp_extractor.policy_net.4.weight',\n",
       "              tensor([[ 0.5352, -0.0684, -0.2788,  ..., -0.1117,  0.2381,  0.0887],\n",
       "                      [ 0.1833,  0.1451, -0.3422,  ..., -0.1216,  0.0034,  0.2855],\n",
       "                      [-0.1025, -0.1807, -0.2258,  ..., -0.0362, -0.0715, -0.2807],\n",
       "                      ...,\n",
       "                      [-0.2638,  0.0332,  0.1319,  ...,  0.1270, -0.0154, -0.1172],\n",
       "                      [-0.2181,  0.3539, -0.1606,  ...,  0.0704, -0.0139, -0.0177],\n",
       "                      [ 0.1400, -0.2313, -0.2052,  ..., -0.0651, -0.1485, -0.0527]])),\n",
       "             ('mlp_extractor.policy_net.4.bias',\n",
       "              tensor([ 0.2818, -0.1212, -0.2015,  ...,  0.1003,  0.1391, -0.3093])),\n",
       "             ('mlp_extractor.value_net.0.weight',\n",
       "              tensor([[-0.0285,  0.0685,  0.0743,  ...,  0.0064,  0.0491,  0.0819],\n",
       "                      [ 0.0087, -0.0212, -0.0495,  ...,  0.0013,  0.0773,  0.0135],\n",
       "                      [-0.0128, -0.0044,  0.0371,  ..., -0.0365,  0.0215, -0.0489],\n",
       "                      ...,\n",
       "                      [-0.0456,  0.0536,  0.0305,  ..., -0.0074,  0.0271,  0.0328],\n",
       "                      [ 0.0407, -0.0532, -0.1100,  ..., -0.0133,  0.0366, -0.0363],\n",
       "                      [-0.0206,  0.0273, -0.0075,  ..., -0.0161, -0.0397, -0.0063]])),\n",
       "             ('mlp_extractor.value_net.0.bias',\n",
       "              tensor([-0.0418, -0.0233, -0.0547,  ..., -0.0498,  0.1173,  0.0509])),\n",
       "             ('mlp_extractor.value_net.2.weight',\n",
       "              tensor([[-0.0374,  0.0293, -0.0470,  ...,  0.0456,  0.0026,  0.0265],\n",
       "                      [-0.0149, -0.0271, -0.0771,  ...,  0.0009,  0.0442, -0.0322],\n",
       "                      [-0.0705,  0.0325, -0.0298,  ..., -0.0360, -0.0791,  0.0328],\n",
       "                      ...,\n",
       "                      [ 0.0830,  0.0406, -0.0194,  ..., -0.0658,  0.0003,  0.0589],\n",
       "                      [-0.0325, -0.0627, -0.0843,  ..., -0.0172,  0.1199,  0.0185],\n",
       "                      [ 0.0643, -0.0148, -0.0610,  ..., -0.0121, -0.0426,  0.0253]])),\n",
       "             ('mlp_extractor.value_net.2.bias',\n",
       "              tensor([ 0.0351, -0.0626, -0.0682,  ...,  0.0812,  0.0650, -0.0734])),\n",
       "             ('mlp_extractor.value_net.4.weight',\n",
       "              tensor([[ 0.0248, -0.0133, -0.0617,  ..., -0.1190, -0.0278,  0.0839],\n",
       "                      [ 0.0314, -0.0259,  0.0049,  ...,  0.0233,  0.0834, -0.0607],\n",
       "                      [ 0.0584, -0.1258, -0.0131,  ..., -0.0694, -0.0777, -0.0501],\n",
       "                      ...,\n",
       "                      [ 0.0606, -0.0823,  0.0575,  ..., -0.0889,  0.0438,  0.0783],\n",
       "                      [ 0.0122,  0.0350,  0.0781,  ..., -0.0219,  0.0412,  0.0545],\n",
       "                      [ 0.0187, -0.0886, -0.0534,  ..., -0.0592,  0.0584,  0.0226]])),\n",
       "             ('mlp_extractor.value_net.4.bias',\n",
       "              tensor([-0.0420,  0.0551,  0.0455,  ..., -0.0542, -0.0616,  0.0793])),\n",
       "             ('action_net.weight',\n",
       "              tensor([[-0.2076, -0.5570,  0.3787,  ..., -0.0696,  0.0206, -0.2029],\n",
       "                      [-0.0475,  0.0346,  0.0913,  ..., -0.0253, -0.0278,  0.0111],\n",
       "                      [-0.0459,  0.0313,  0.0946,  ..., -0.0246, -0.0302,  0.0099],\n",
       "                      ...,\n",
       "                      [ 0.0669, -0.0614, -0.1979,  ..., -0.1299, -0.3509,  0.0486],\n",
       "                      [-0.1376, -0.3503,  0.2716,  ..., -0.4833, -0.2808, -0.1056],\n",
       "                      [-0.2115, -0.1019, -0.3368,  ...,  0.1193,  0.1130, -0.1269]])),\n",
       "             ('action_net.bias',\n",
       "              tensor([ 0.0571, -0.0740, -0.0792, -0.0793, -0.0209,  0.0840, -0.0837,  0.0648,\n",
       "                      -0.0643,  0.3540, -0.3530,  0.4335, -0.4324,  0.1040, -0.1039, -0.0772,\n",
       "                      -0.0067,  0.0233,  0.0718, -0.0304,  0.0071, -0.1959])),\n",
       "             ('value_net.weight',\n",
       "              tensor([[-0.0919,  0.0837,  0.1547,  ..., -0.0833, -0.1109,  0.0715]])),\n",
       "             ('value_net.bias', tensor([0.0495]))])"
      ]
     },
     "execution_count": 3,
     "metadata": {},
     "output_type": "execute_result"
    }
   ],
   "source": [
    "torch.save(PPO.load(\"ppti_ppo2_1024_batch128_clip01_ent0001\", custom_objects={'policy_kwargs' :  dict(net_arch=net_arch, activation_fn=activation_fn), }).policy.state_dict(), 'ppo_policy_normed_1024_1024_1024_Tanh_statedict')"
   ]
  },
  {
   "cell_type": "code",
   "execution_count": 3,
   "metadata": {},
   "outputs": [],
   "source": [
    "# mean.tolist()"
   ]
  },
  {
   "cell_type": "code",
   "execution_count": 4,
   "metadata": {},
   "outputs": [],
   "source": [
    "# std.tolist()"
   ]
  },
  {
   "cell_type": "code",
   "execution_count": null,
   "metadata": {},
   "outputs": [
    {
     "name": "stderr",
     "output_type": "stream",
     "text": [
      "/Users/walidthekraken/VISA FRANCE/M2/RLD/stk_project/stk_actor/wrappers.py:119: FutureWarning: You are using `torch.load` with `weights_only=False` (the current default value), which uses the default pickle module implicitly. It is possible to construct malicious pickle data which will execute arbitrary code during unpickling (See https://github.com/pytorch/pytorch/blob/main/SECURITY.md#untrusted-models for more details). In a future release, the default value for `weights_only` will be flipped to `True`. This limits the functions that could be executed during unpickling. Arbitrary objects will no longer be allowed to be loaded via this mode unless they are explicitly allowlisted by the user via `torch.serialization.add_safe_globals`. We recommend you start setting `weights_only=True` for any use case where you don't have full control of the loaded file. Please open an issue on GitHub for any issues related to this experimental feature.\n",
      "  self.mean = torch.load(mod_path/'buffer_mean', map_location='cpu')\n",
      "/Users/walidthekraken/VISA FRANCE/M2/RLD/stk_project/stk_actor/wrappers.py:120: FutureWarning: You are using `torch.load` with `weights_only=False` (the current default value), which uses the default pickle module implicitly. It is possible to construct malicious pickle data which will execute arbitrary code during unpickling (See https://github.com/pytorch/pytorch/blob/main/SECURITY.md#untrusted-models for more details). In a future release, the default value for `weights_only` will be flipped to `True`. This limits the functions that could be executed during unpickling. Arbitrary objects will no longer be allowed to be loaded via this mode unless they are explicitly allowlisted by the user via `torch.serialization.add_safe_globals`. We recommend you start setting `weights_only=True` for any use case where you don't have full control of the loaded file. Please open an issue on GitHub for any issues related to this experimental feature.\n",
      "  self.std = torch.load(mod_path/'buffer_std', map_location='cpu')\n"
     ]
    },
    {
     "name": "stdout",
     "output_type": "stream",
     "text": [
      "..:: Antarctica Rendering Engine 2.0 ::..\n"
     ]
    },
    {
     "name": "stderr",
     "output_type": "stream",
     "text": [
      "2025-01-23 15:50:32.615 python[8253:308048] +[IMKClient subclass]: chose IMKClient_Modern\n",
      "2025-01-23 15:50:32.615 python[8253:308048] +[IMKInputSession subclass]: chose IMKInputSession_Modern\n",
      "/opt/homebrew/Caskroom/miniforge/base/envs/bbrl/lib/python3.10/site-packages/gymnasium/utils/passive_env_checker.py:335: UserWarning: \u001b[33mWARN: No render fps was declared in the environment (env.metadata['render_fps'] is None or not defined), rendering may occur at inconsistent fps.\u001b[0m\n",
      "  logger.warn(\n"
     ]
    },
    {
     "name": "stdout",
     "output_type": "stream",
     "text": [
      "xr591 692\n",
      "..:: Antarctica Rendering Engine 2.0 ::..\n"
     ]
    },
    {
     "name": "stderr",
     "output_type": "stream",
     "text": [
      "2025-01-23 15:50:52.077 python[8255:308268] +[IMKClient subclass]: chose IMKClient_Modern\n",
      "2025-01-23 15:50:52.077 python[8255:308268] +[IMKInputSession subclass]: chose IMKInputSession_Modern\n"
     ]
    },
    {
     "name": "stdout",
     "output_type": "stream",
     "text": [
      "xr591 649\n",
      "..:: Antarctica Rendering Engine 2.0 ::..\n"
     ]
    },
    {
     "name": "stderr",
     "output_type": "stream",
     "text": [
      "2025-01-23 15:51:11.050 python[8257:308562] +[IMKClient subclass]: chose IMKClient_Modern\n",
      "2025-01-23 15:51:11.050 python[8257:308562] +[IMKInputSession subclass]: chose IMKInputSession_Modern\n"
     ]
    },
    {
     "name": "stdout",
     "output_type": "stream",
     "text": [
      "xr591 733\n",
      "..:: Antarctica Rendering Engine 2.0 ::..\n"
     ]
    }
   ],
   "source": [
    "# 'fortmagma',\n",
    "# 'ravenbridge_mansion',\n",
    "# 'snowmountain',\n",
    "# 'cocoa_temple',\n",
    "# 'sandtrack',    \n",
    "# 'scotland', \n",
    "# 'stk_enterprise',\n",
    "# 'volcano_island', # 1104\n",
    "# 'xr591', # 864\n",
    "from stk_actor.wrappers import StuckStopWrapper\n",
    "\n",
    "\n",
    "tracks = [\n",
    "    # 'black_forest',\n",
    "    # 'olivermath', # 244\n",
    "    # 'minigolf', # 434\n",
    "    # 'gran_paradiso_island', # 683\n",
    "    # 'candela_city', # 521\n",
    "    # 'mines', # 639\n",
    "    # 'snowmountain', # 589\n",
    "    # 'abyss', # 612\n",
    "    # 'cornfield_crossing', # 638\n",
    "    # 'hacienda', # 581\n",
    "    # 'lighthouse', # 452\n",
    "    # 'snowtuxpeak', # 482\n",
    "    # 'zengarden', # 356\n",
    "# \n",
    "# \n",
    "    # 'fortmagma',\n",
    "    # 'ravenbridge_mansion',\n",
    "    # 'snowmountain',\n",
    "    # 'cocoa_temple',\n",
    "    # 'sandtrack',    \n",
    "    #'scotland', \n",
    "    # 'stk_enterprise',\n",
    "    # 'volcano_island', # 1104\n",
    "    'xr591', # 864        \n",
    "\n",
    "]\n",
    "for track in tracks:\n",
    "    while True:\n",
    "        vec_env = make_vec_env(\"supertuxkart/flattened_multidiscrete-v0\", #seed=0,\n",
    "                            # wrapper_class=lambda x : ObsTimeExtensionWrapper(PreprocessObservationWrapper(x)), \n",
    "                            wrapper_class=lambda x : (\n",
    "                                StuckStopWrapper(\n",
    "                                    PreprocessObservationWrapper(x, ret_dict=False, norm=False),\n",
    "                                    n=48,\n",
    "                                )\n",
    "                            ), \n",
    "                        n_envs=1, env_kwargs={\n",
    "        'render_mode':\"human\", 'agent':AgentSpec(use_ai=False, name=\"walid\"), 'laps':1, \n",
    "        'track':track,\n",
    "        'num_kart':12, 'difficulty':2\n",
    "        })\n",
    "        obs = vec_env.reset()\n",
    "        dones = [False]\n",
    "        ix = 0\n",
    "        while (True and not any(dones)):\n",
    "            \n",
    "            obs = torch.tensor(obs)\n",
    "            \n",
    "            obs = (obs - mean) / (std + 1e-8)\n",
    "            action, _states = model.predict(obs, deterministic=False)\n",
    "            obs, rewards, dones, info = vec_env.step(action)\n",
    "            vec_env.render(\"human\")\n",
    "            # print(dones)\n",
    "            ix += 1\n",
    "            if ix == 1500:\n",
    "                break\n",
    "        print(track, ix)\n",
    "        vec_env.close()\n",
    "\n",
    "\n",
    "\n",
    "            \n",
    "\n",
    "\n"
   ]
  },
  {
   "cell_type": "code",
   "execution_count": 6,
   "metadata": {},
   "outputs": [],
   "source": [
    "# import torch\n",
    "# torch.save( model.policy.state_dict(), 'ppo_policy_512_512_512_512_SiLU_4_statedict')"
   ]
  },
  {
   "cell_type": "code",
   "execution_count": 7,
   "metadata": {},
   "outputs": [
    {
     "data": {
      "text/plain": [
       "<StuckStopWrapper<PreprocessObservationWrapper<Monitor<FlattenerWrapper<DiscreteActionsWrapper<PolarObservations<ConstantSizedObservations<TimeLimit<OrderEnforcing<PassiveEnvChecker<STKRaceEnv<supertuxkart/flattened_multidiscrete-v0>>>>>>>>>>>>"
      ]
     },
     "execution_count": 7,
     "metadata": {},
     "output_type": "execute_result"
    }
   ],
   "source": [
    "vec_env.envs[0]"
   ]
  }
 ],
 "metadata": {
  "kernelspec": {
   "display_name": "bbrl",
   "language": "python",
   "name": "python3"
  },
  "language_info": {
   "codemirror_mode": {
    "name": "ipython",
    "version": 3
   },
   "file_extension": ".py",
   "mimetype": "text/x-python",
   "name": "python",
   "nbconvert_exporter": "python",
   "pygments_lexer": "ipython3",
   "version": "3.10.15"
  }
 },
 "nbformat": 4,
 "nbformat_minor": 2
}
