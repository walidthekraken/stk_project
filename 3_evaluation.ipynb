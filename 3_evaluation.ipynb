{
 "cells": [
  {
   "cell_type": "code",
   "execution_count": 1,
   "metadata": {},
   "outputs": [],
   "source": [
    "from master_dac.rld import stk"
   ]
  },
  {
   "cell_type": "code",
   "execution_count": 2,
   "metadata": {},
   "outputs": [
    {
     "name": "stdout",
     "output_type": "stream",
     "text": [
      "..:: Antarctica Rendering Engine 2.0 ::..\n"
     ]
    },
    {
     "name": "stderr",
     "output_type": "stream",
     "text": [
      "/Users/walidthekraken/VISA FRANCE/M2/RLD/stk_project/stk_actor/wrappers.py:119: FutureWarning: You are using `torch.load` with `weights_only=False` (the current default value), which uses the default pickle module implicitly. It is possible to construct malicious pickle data which will execute arbitrary code during unpickling (See https://github.com/pytorch/pytorch/blob/main/SECURITY.md#untrusted-models for more details). In a future release, the default value for `weights_only` will be flipped to `True`. This limits the functions that could be executed during unpickling. Arbitrary objects will no longer be allowed to be loaded via this mode unless they are explicitly allowlisted by the user via `torch.serialization.add_safe_globals`. We recommend you start setting `weights_only=True` for any use case where you don't have full control of the loaded file. Please open an issue on GitHub for any issues related to this experimental feature.\n",
      "  self.mean = torch.load(mod_path/'buffer_mean_2', map_location='cpu')\n",
      "/Users/walidthekraken/VISA FRANCE/M2/RLD/stk_project/stk_actor/wrappers.py:120: FutureWarning: You are using `torch.load` with `weights_only=False` (the current default value), which uses the default pickle module implicitly. It is possible to construct malicious pickle data which will execute arbitrary code during unpickling (See https://github.com/pytorch/pytorch/blob/main/SECURITY.md#untrusted-models for more details). In a future release, the default value for `weights_only` will be flipped to `True`. This limits the functions that could be executed during unpickling. Arbitrary objects will no longer be allowed to be loaded via this mode unless they are explicitly allowlisted by the user via `torch.serialization.add_safe_globals`. We recommend you start setting `weights_only=True` for any use case where you don't have full control of the loaded file. Please open an issue on GitHub for any issues related to this experimental feature.\n",
      "  self.std = torch.load(mod_path/'buffer_std_2', map_location='cpu')\n",
      "/opt/homebrew/Caskroom/miniforge/base/envs/bbrl/lib/python3.10/site-packages/stable_baselines3/ppo/ppo.py:155: UserWarning: You have specified a mini-batch size of 64, but because the `RolloutBuffer` is of size `n_steps * n_envs = 5`, after every 0 untruncated mini-batches, there will be a truncated mini-batch of size 5\n",
      "We recommend using a `batch_size` that is a factor of `n_steps * n_envs`.\n",
      "Info: (n_steps=5 and n_envs=1)\n",
      "  warnings.warn(\n"
     ]
    },
    {
     "name": "stdout",
     "output_type": "stream",
     "text": [
      "Using cpu device\n"
     ]
    },
    {
     "name": "stderr",
     "output_type": "stream",
     "text": [
      "/var/folders/5b/wsyz4crx22bg_7tpsgbw3tzw0000gn/T/ipykernel_31140/2135084773.py:46: FutureWarning: You are using `torch.load` with `weights_only=False` (the current default value), which uses the default pickle module implicitly. It is possible to construct malicious pickle data which will execute arbitrary code during unpickling (See https://github.com/pytorch/pytorch/blob/main/SECURITY.md#untrusted-models for more details). In a future release, the default value for `weights_only` will be flipped to `True`. This limits the functions that could be executed during unpickling. Arbitrary objects will no longer be allowed to be loaded via this mode unless they are explicitly allowlisted by the user via `torch.serialization.add_safe_globals`. We recommend you start setting `weights_only=True` for any use case where you don't have full control of the loaded file. Please open an issue on GitHub for any issues related to this experimental feature.\n",
      "  unified_policy.load_state_dict(torch.load(filename))\n",
      "/var/folders/5b/wsyz4crx22bg_7tpsgbw3tzw0000gn/T/ipykernel_31140/2135084773.py:52: FutureWarning: You are using `torch.load` with `weights_only=False` (the current default value), which uses the default pickle module implicitly. It is possible to construct malicious pickle data which will execute arbitrary code during unpickling (See https://github.com/pytorch/pytorch/blob/main/SECURITY.md#untrusted-models for more details). In a future release, the default value for `weights_only` will be flipped to `True`. This limits the functions that could be executed during unpickling. Arbitrary objects will no longer be allowed to be loaded via this mode unless they are explicitly allowlisted by the user via `torch.serialization.add_safe_globals`. We recommend you start setting `weights_only=True` for any use case where you don't have full control of the loaded file. Please open an issue on GitHub for any issues related to this experimental feature.\n",
      "  mean = torch.load('buffer_mean_2', map_location='cpu')\n",
      "/var/folders/5b/wsyz4crx22bg_7tpsgbw3tzw0000gn/T/ipykernel_31140/2135084773.py:53: FutureWarning: You are using `torch.load` with `weights_only=False` (the current default value), which uses the default pickle module implicitly. It is possible to construct malicious pickle data which will execute arbitrary code during unpickling (See https://github.com/pytorch/pytorch/blob/main/SECURITY.md#untrusted-models for more details). In a future release, the default value for `weights_only` will be flipped to `True`. This limits the functions that could be executed during unpickling. Arbitrary objects will no longer be allowed to be loaded via this mode unless they are explicitly allowlisted by the user via `torch.serialization.add_safe_globals`. We recommend you start setting `weights_only=True` for any use case where you don't have full control of the loaded file. Please open an issue on GitHub for any issues related to this experimental feature.\n",
      "  std = torch.load('buffer_std_2', map_location='cpu')\n"
     ]
    }
   ],
   "source": [
    "from stable_baselines3 import PPO, A2C\n",
    "from stable_baselines3.common.env_util import make_vec_env\n",
    "from stk_actor.agent import UnifiedSACPolicy\n",
    "from stk_actor.wrappers import PreprocessObservationWrapper\n",
    "import torch\n",
    "\n",
    "from pystk2_gymnasium import AgentSpec\n",
    "\n",
    "vec_env = make_vec_env(\"supertuxkart/flattened_multidiscrete-v0\", seed=0,\n",
    "                        # wrapper_class=lambda x : ObsTimeExtensionWrapper(PreprocessObservationWrapper(x)), \n",
    "                        wrapper_class=lambda x : (PreprocessObservationWrapper(x)), \n",
    "                       n_envs=1, env_kwargs={\n",
    "    'render_mode':None, 'agent':AgentSpec(use_ai=False, name=\"walid\"),  #'track':'abyss', #'num_kart':2, 'difficulty':0\n",
    "})\n",
    "\n",
    "# net_arch=[512,512,512]\n",
    "# activation_fn=torch.nn.SiLU\n",
    "# filename = 'policy_512_512_512_SiLU_2_statedict'\n",
    "\n",
    "# net_arch=[512,512,512,512,512]\n",
    "net_arch=[1024,1024,1024]\n",
    "activation_fn=torch.nn.Tanh\n",
    "# filename = 'policy_512_512_512_512_SiLU_3_statedict'\n",
    "# filename = 'airl_policy_512_512_512_512_SiLU_statedict'\n",
    "# filename = 'policy_normed_512_512_512_512_SiLU_statedict'\n",
    "# filename = 'policy_normed_128_128_SiLU_statedict'\n",
    "# filename = 'policy_normed_1024_1024_1024_Tanh_statedict'\n",
    "filename = 'policy_normed_1024_1024_1024_Tanh_statedict_2'\n",
    "\n",
    "model = PPO(\n",
    "        \"MlpPolicy\", \n",
    "        vec_env, \n",
    "        verbose=1, \n",
    "        policy_kwargs = dict(net_arch=net_arch, activation_fn=activation_fn,), \n",
    "        device='cpu',\n",
    "        n_steps=5,\n",
    "        tensorboard_log=\"./outputs/\"\n",
    ")\n",
    "action_dims = [space.n for space in vec_env.action_space]\n",
    "unified_policy = UnifiedSACPolicy(\n",
    "    vec_env.observation_space, \n",
    "    action_dims, \n",
    "    net_arch=net_arch, \n",
    "    activation_fn=activation_fn\n",
    ")\n",
    "unified_policy.load_state_dict(torch.load(filename))\n",
    "model.policy.load_state_dict(unified_policy.shared.state_dict())\n",
    "# model.policy.load_state_dict(torch.load(filename))\n",
    "vec_env.close()\n",
    "# model = PPO.load(\"ppti_ppo_1500\", custom_objects={'policy_kwargs' :  dict(net_arch=net_arch, activation_fn=activation_fn), })\n",
    "model = PPO.load(\"ppti_ppo4_2048_batch128_clip01_ent0001\", custom_objects={'policy_kwargs' :  dict(net_arch=net_arch, activation_fn=activation_fn), })\n",
    "mean = torch.load('buffer_mean_2', map_location='cpu')\n",
    "std = torch.load('buffer_std_2', map_location='cpu')"
   ]
  },
  {
   "cell_type": "code",
   "execution_count": 3,
   "metadata": {},
   "outputs": [],
   "source": [
    "unified_policy.shared.load_state_dict(PPO.load(\"ppti_ppo4_2048_batch128_clip01_ent0001\", custom_objects={'policy_kwargs' :  dict(net_arch=net_arch, activation_fn=activation_fn), }).policy.state_dict())\n",
    "torch.save(unified_policy.state_dict(), 'ppo_policy_normed_1024_1024_1024_Tanh_statedict')"
   ]
  },
  {
   "cell_type": "code",
   "execution_count": 4,
   "metadata": {},
   "outputs": [],
   "source": [
    "# mean.tolist()"
   ]
  },
  {
   "cell_type": "code",
   "execution_count": 5,
   "metadata": {},
   "outputs": [],
   "source": [
    "# std.tolist()"
   ]
  },
  {
   "cell_type": "code",
   "execution_count": null,
   "metadata": {},
   "outputs": [
    {
     "name": "stderr",
     "output_type": "stream",
     "text": [
      "/Users/walidthekraken/VISA FRANCE/M2/RLD/stk_project/stk_actor/wrappers.py:119: FutureWarning: You are using `torch.load` with `weights_only=False` (the current default value), which uses the default pickle module implicitly. It is possible to construct malicious pickle data which will execute arbitrary code during unpickling (See https://github.com/pytorch/pytorch/blob/main/SECURITY.md#untrusted-models for more details). In a future release, the default value for `weights_only` will be flipped to `True`. This limits the functions that could be executed during unpickling. Arbitrary objects will no longer be allowed to be loaded via this mode unless they are explicitly allowlisted by the user via `torch.serialization.add_safe_globals`. We recommend you start setting `weights_only=True` for any use case where you don't have full control of the loaded file. Please open an issue on GitHub for any issues related to this experimental feature.\n",
      "  self.mean = torch.load(mod_path/'buffer_mean_2', map_location='cpu')\n",
      "/Users/walidthekraken/VISA FRANCE/M2/RLD/stk_project/stk_actor/wrappers.py:120: FutureWarning: You are using `torch.load` with `weights_only=False` (the current default value), which uses the default pickle module implicitly. It is possible to construct malicious pickle data which will execute arbitrary code during unpickling (See https://github.com/pytorch/pytorch/blob/main/SECURITY.md#untrusted-models for more details). In a future release, the default value for `weights_only` will be flipped to `True`. This limits the functions that could be executed during unpickling. Arbitrary objects will no longer be allowed to be loaded via this mode unless they are explicitly allowlisted by the user via `torch.serialization.add_safe_globals`. We recommend you start setting `weights_only=True` for any use case where you don't have full control of the loaded file. Please open an issue on GitHub for any issues related to this experimental feature.\n",
      "  self.std = torch.load(mod_path/'buffer_std_2', map_location='cpu')\n"
     ]
    },
    {
     "name": "stdout",
     "output_type": "stream",
     "text": [
      "..:: Antarctica Rendering Engine 2.0 ::..\n"
     ]
    },
    {
     "name": "stderr",
     "output_type": "stream",
     "text": [
      "2025-01-28 12:34:28.457 python[31146:1447953] +[IMKClient subclass]: chose IMKClient_Modern\n",
      "2025-01-28 12:34:28.457 python[31146:1447953] +[IMKInputSession subclass]: chose IMKInputSession_Modern\n",
      "/opt/homebrew/Caskroom/miniforge/base/envs/bbrl/lib/python3.10/site-packages/gymnasium/utils/passive_env_checker.py:335: UserWarning: \u001b[33mWARN: No render fps was declared in the environment (env.metadata['render_fps'] is None or not defined), rendering may occur at inconsistent fps.\u001b[0m\n",
      "  logger.warn(\n"
     ]
    }
   ],
   "source": [
    "# 'fortmagma',\n",
    "# 'ravenbridge_mansion',\n",
    "# 'snowmountain',\n",
    "# 'cocoa_temple',\n",
    "# 'sandtrack',    \n",
    "# 'scotland', \n",
    "# 'stk_enterprise',\n",
    "# 'volcano_island', # 1104\n",
    "# 'xr591', # 864\n",
    "from stk_actor.wrappers import StuckStopWrapper\n",
    "\n",
    "\n",
    "tracks = [\n",
    "    # 'black_forest',\n",
    "    # 'olivermath', # 244 \n",
    "    # 'minigolf', # 434 \n",
    "    # 'gran_paradiso_island', # 683  \n",
    "    # 'candela_city', # 521\n",
    "    # 'mines', # 639\n",
    "    # 'snowmountain', # 589\n",
    "    # 'abyss', # 612\n",
    "    # 'cornfield_crossing', # 638\n",
    "    # 'hacienda', # 581\n",
    "    # 'lighthouse', # 452\n",
    "    # 'snowtuxpeak', # 482 \n",
    "    # 'zengarden', # 356 \n",
    "\n",
    "\n",
    "    'fortmagma',\n",
    "    # 'ravenbridge_mansion', \n",
    "    # 'snowmountain',\n",
    "    # 'cocoa_temple',\n",
    "    # 'sandtrack',    \n",
    "    # 'scotland', \n",
    "    # 'stk_enterprise', \n",
    "    # 'volcano_island', # 1104\n",
    "    # 'xr591', # 864        \n",
    "]\n",
    "for track in tracks:\n",
    "    vec_env = make_vec_env(\"supertuxkart/flattened_multidiscrete-v0\", #seed=0,\n",
    "                            # wrapper_class=lambda x : ObsTimeExtensionWrapper(PreprocessObservationWrapper(x)), \n",
    "                            wrapper_class=lambda x : (\n",
    "                                StuckStopWrapper(\n",
    "                                    PreprocessObservationWrapper(x, ret_dict=False, norm=False),\n",
    "                                    n=128,\n",
    "                                )\n",
    "                            ), \n",
    "                        n_envs=1, env_kwargs={\n",
    "        'render_mode':\"human\", 'agent':AgentSpec(use_ai=False, name=\"walid\"), 'laps':1, \n",
    "        'track':track,\n",
    "        'num_kart':15, 'difficulty':2\n",
    "        })\n",
    "\n",
    "    while True:\n",
    "        obs = vec_env.reset()\n",
    "        dones = [False]\n",
    "        ix = 0\n",
    "        while (True and not any(dones)):\n",
    "            \n",
    "            obs = torch.tensor(obs)\n",
    "            \n",
    "            obs = (obs - mean) / (std + 1e-8)\n",
    "            action, _states = model.predict(obs, deterministic=False)\n",
    "            obs, rewards, dones, info = vec_env.step(action)\n",
    "            vec_env.render(\"human\")\n",
    "            # print(dones)\n",
    "            ix += 1\n",
    "            if ix == 1500:\n",
    "                break\n",
    "        print(track, ix)\n",
    "    vec_env.close()\n",
    "\n",
    "\n",
    "\n",
    "            \n",
    "\n",
    "\n"
   ]
  },
  {
   "cell_type": "code",
   "execution_count": 7,
   "metadata": {},
   "outputs": [],
   "source": [
    "# import torch\n",
    "# torch.save( model.policy.state_dict(), 'ppo_policy_512_512_512_512_SiLU_4_statedict')"
   ]
  },
  {
   "cell_type": "code",
   "execution_count": null,
   "metadata": {},
   "outputs": [],
   "source": [
    "vec_env.envs[0]"
   ]
  }
 ],
 "metadata": {
  "kernelspec": {
   "display_name": "bbrl",
   "language": "python",
   "name": "python3"
  },
  "language_info": {
   "codemirror_mode": {
    "name": "ipython",
    "version": 3
   },
   "file_extension": ".py",
   "mimetype": "text/x-python",
   "name": "python",
   "nbconvert_exporter": "python",
   "pygments_lexer": "ipython3",
   "version": "3.10.15"
  }
 },
 "nbformat": 4,
 "nbformat_minor": 2
}
