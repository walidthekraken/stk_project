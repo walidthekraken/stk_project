{
 "cells": [
  {
   "cell_type": "code",
   "execution_count": 3,
   "metadata": {},
   "outputs": [
    {
     "name": "stdout",
     "output_type": "stream",
     "text": [
      "..:: Antarctica Rendering Engine 2.0 ::..\n",
      "Using cpu device\n"
     ]
    },
    {
     "name": "stderr",
     "output_type": "stream",
     "text": [
      "/opt/homebrew/Caskroom/miniforge/base/envs/bbrl/lib/python3.10/site-packages/stable_baselines3/ppo/ppo.py:155: UserWarning: You have specified a mini-batch size of 64, but because the `RolloutBuffer` is of size `n_steps * n_envs = 5`, after every 0 untruncated mini-batches, there will be a truncated mini-batch of size 5\n",
      "We recommend using a `batch_size` that is a factor of `n_steps * n_envs`.\n",
      "Info: (n_steps=5 and n_envs=1)\n",
      "  warnings.warn(\n",
      "/var/folders/5b/wsyz4crx22bg_7tpsgbw3tzw0000gn/T/ipykernel_40392/3916416425.py:40: FutureWarning: You are using `torch.load` with `weights_only=False` (the current default value), which uses the default pickle module implicitly. It is possible to construct malicious pickle data which will execute arbitrary code during unpickling (See https://github.com/pytorch/pytorch/blob/main/SECURITY.md#untrusted-models for more details). In a future release, the default value for `weights_only` will be flipped to `True`. This limits the functions that could be executed during unpickling. Arbitrary objects will no longer be allowed to be loaded via this mode unless they are explicitly allowlisted by the user via `torch.serialization.add_safe_globals`. We recommend you start setting `weights_only=True` for any use case where you don't have full control of the loaded file. Please open an issue on GitHub for any issues related to this experimental feature.\n",
      "  unified_policy.load_state_dict(torch.load(filename))\n",
      "/opt/homebrew/Caskroom/miniforge/base/envs/bbrl/lib/python3.10/site-packages/stable_baselines3/common/save_util.py:167: UserWarning: Could not deserialize object clip_range. Consider using `custom_objects` argument to replace this object.\n",
      "Exception: code expected at most 16 arguments, got 18\n",
      "  warnings.warn(\n",
      "/opt/homebrew/Caskroom/miniforge/base/envs/bbrl/lib/python3.10/site-packages/stable_baselines3/common/save_util.py:167: UserWarning: Could not deserialize object lr_schedule. Consider using `custom_objects` argument to replace this object.\n",
      "Exception: code expected at most 16 arguments, got 18\n",
      "  warnings.warn(\n"
     ]
    }
   ],
   "source": [
    "from stable_baselines3 import PPO, A2C\n",
    "from stable_baselines3.common.env_util import make_vec_env\n",
    "from stk_actor.agent import UnifiedSACPolicy\n",
    "from stk_actor.wrappers import PreprocessObservationWrapper\n",
    "import torch\n",
    "\n",
    "from pystk2_gymnasium import AgentSpec\n",
    "\n",
    "vec_env = make_vec_env(\"supertuxkart/flattened_multidiscrete-v0\", seed=0,\n",
    "                        # wrapper_class=lambda x : ObsTimeExtensionWrapper(PreprocessObservationWrapper(x)), \n",
    "                        wrapper_class=lambda x : (PreprocessObservationWrapper(x)), \n",
    "                       n_envs=1, env_kwargs={\n",
    "    'render_mode':None, 'agent':AgentSpec(use_ai=False, name=\"walid\"),  #'track':'abyss', #'num_kart':2, 'difficulty':0\n",
    "})\n",
    "\n",
    "# net_arch=[512,512,512]\n",
    "# activation_fn=torch.nn.SiLU\n",
    "# filename = 'policy_512_512_512_SiLU_2_statedict'\n",
    "\n",
    "net_arch=[512,512,512,512]\n",
    "activation_fn=torch.nn.SiLU\n",
    "filename = 'policy_512_512_512_512_SiLU_3_statedict'\n",
    "\n",
    "model = PPO(\n",
    "        \"MlpPolicy\", \n",
    "        vec_env, \n",
    "        verbose=1, \n",
    "        policy_kwargs = dict(net_arch=net_arch, activation_fn=activation_fn,), \n",
    "        device='cpu',\n",
    "        n_steps=5,\n",
    "        tensorboard_log=\"./outputs/\"\n",
    ")\n",
    "action_dims = [space.n for space in vec_env.action_space]\n",
    "unified_policy = UnifiedSACPolicy(\n",
    "    vec_env.observation_space, \n",
    "    action_dims, \n",
    "    net_arch=net_arch, \n",
    "    activation_fn=activation_fn\n",
    ")\n",
    "unified_policy.load_state_dict(torch.load(filename))\n",
    "model.policy.load_state_dict(unified_policy.shared.state_dict())\n",
    "vec_env.close()\n",
    "# model = PPO.load(\"ppti_ppo_1500\", custom_objects={'policy_kwargs' :  dict(net_arch=net_arch, activation_fn=activation_fn), })\n",
    "model = PPO.load(\"ppti_ppo_1500_batch128_clip0001_ent0001\", custom_objects={'policy_kwargs' :  dict(net_arch=net_arch, activation_fn=activation_fn), })\n"
   ]
  },
  {
   "cell_type": "code",
   "execution_count": null,
   "metadata": {},
   "outputs": [
    {
     "name": "stdout",
     "output_type": "stream",
     "text": [
      "..:: Antarctica Rendering Engine 2.0 ::..\n"
     ]
    },
    {
     "name": "stderr",
     "output_type": "stream",
     "text": [
      "2025-01-17 11:17:43.965 python[40338:1599379] +[IMKClient subclass]: chose IMKClient_Modern\n",
      "2025-01-17 11:17:43.965 python[40338:1599379] +[IMKInputSession subclass]: chose IMKInputSession_Modern\n"
     ]
    }
   ],
   "source": [
    "tracks = [\n",
    "    # 'black_forest',\n",
    "    # 'olivermath',\n",
    "    # 'minigolf',\n",
    "    # 'gran_paradiso_island',\n",
    "    # 'candela_city',\n",
    "    # 'fortmagma'\n",
    "    # 'ravenbridge_mansion',\n",
    "    # 'mines',\n",
    "    # 'snowmountain',\n",
    "    #  'abyss',\n",
    "    # 'cocoa_temple',\n",
    "    # 'cornfield_crossing',\n",
    "    # 'hacienda',\n",
    "    # 'lighthouse',\n",
    "    # 'sandtrack',\n",
    "    # 'scotland',\n",
    "    # 'snowtuxpeak',\n",
    "    # 'stk_enterprise',\n",
    "    # 'volcano_island',\n",
    "    # 'xr591',\n",
    "    # 'zengarden'\n",
    "]\n",
    "# for track in tracks:\n",
    "while True:\n",
    "    vec_env = make_vec_env(\"supertuxkart/flattened_multidiscrete-v0\", #seed=0,\n",
    "                        # wrapper_class=lambda x : ObsTimeExtensionWrapper(PreprocessObservationWrapper(x)), \n",
    "                        wrapper_class=lambda x : (PreprocessObservationWrapper(x, ret_dict=False)), \n",
    "                       n_envs=1, env_kwargs={\n",
    "    'render_mode':\"human\", 'agent':AgentSpec(use_ai=False, name=\"walid\"), 'laps':2,#'track':track, #'num_kart':2, 'difficulty':0\n",
    "    })\n",
    "    obs = vec_env.reset()\n",
    "    while True:\n",
    "        ix = 0\n",
    "        action, _states = model.predict(obs, deterministic=False)\n",
    "        obs, rewards, dones, info = vec_env.step(action)\n",
    "        vec_env.render(\"human\")\n",
    "        ix += 1\n",
    "        if ix == 256:\n",
    "            break\n",
    "    vec_env.close()\n",
    "\n"
   ]
  },
  {
   "cell_type": "code",
   "execution_count": 4,
   "metadata": {},
   "outputs": [],
   "source": [
    "import torch\n",
    "torch.save( model.policy.state_dict(), 'ppo_policy_512_512_512_512_SiLU_4_statedict')"
   ]
  }
 ],
 "metadata": {
  "kernelspec": {
   "display_name": "bbrl",
   "language": "python",
   "name": "python3"
  },
  "language_info": {
   "codemirror_mode": {
    "name": "ipython",
    "version": 3
   },
   "file_extension": ".py",
   "mimetype": "text/x-python",
   "name": "python",
   "nbconvert_exporter": "python",
   "pygments_lexer": "ipython3",
   "version": "3.10.15"
  }
 },
 "nbformat": 4,
 "nbformat_minor": 2
}
