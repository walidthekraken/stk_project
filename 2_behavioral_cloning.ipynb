{
 "cells": [
  {
   "cell_type": "code",
   "execution_count": 1,
   "metadata": {},
   "outputs": [
    {
     "name": "stdout",
     "output_type": "stream",
     "text": [
      "..:: Antarctica Rendering Engine 2.0 ::..\n"
     ]
    },
    {
     "name": "stderr",
     "output_type": "stream",
     "text": [
      "/Users/walidthekraken/VISA FRANCE/M2/RLD/stk_project/stk_actor/wrappers.py:119: FutureWarning: You are using `torch.load` with `weights_only=False` (the current default value), which uses the default pickle module implicitly. It is possible to construct malicious pickle data which will execute arbitrary code during unpickling (See https://github.com/pytorch/pytorch/blob/main/SECURITY.md#untrusted-models for more details). In a future release, the default value for `weights_only` will be flipped to `True`. This limits the functions that could be executed during unpickling. Arbitrary objects will no longer be allowed to be loaded via this mode unless they are explicitly allowlisted by the user via `torch.serialization.add_safe_globals`. We recommend you start setting `weights_only=True` for any use case where you don't have full control of the loaded file. Please open an issue on GitHub for any issues related to this experimental feature.\n",
      "  self.mean = torch.load(mod_path/'buffer_mean', map_location='cpu')\n",
      "/Users/walidthekraken/VISA FRANCE/M2/RLD/stk_project/stk_actor/wrappers.py:120: FutureWarning: You are using `torch.load` with `weights_only=False` (the current default value), which uses the default pickle module implicitly. It is possible to construct malicious pickle data which will execute arbitrary code during unpickling (See https://github.com/pytorch/pytorch/blob/main/SECURITY.md#untrusted-models for more details). In a future release, the default value for `weights_only` will be flipped to `True`. This limits the functions that could be executed during unpickling. Arbitrary objects will no longer be allowed to be loaded via this mode unless they are explicitly allowlisted by the user via `torch.serialization.add_safe_globals`. We recommend you start setting `weights_only=True` for any use case where you don't have full control of the loaded file. Please open an issue on GitHub for any issues related to this experimental feature.\n",
      "  self.std = torch.load(mod_path/'buffer_std', map_location='cpu',)\n"
     ]
    },
    {
     "data": {
      "text/plain": [
       "(154, [5, 2, 2, 2, 2, 2, 7])"
      ]
     },
     "execution_count": 1,
     "metadata": {},
     "output_type": "execute_result"
    }
   ],
   "source": [
    "from stable_baselines3 import PPO\n",
    "from stable_baselines3.common.env_util import make_vec_env\n",
    "import gymnasium as gym\n",
    "from pystk2_gymnasium import AgentSpec\n",
    "from stk_actor.replay_buffer import SACRolloutBuffer\n",
    "from stk_actor.wrappers import PreprocessObservationWrapper\n",
    "import torch\n",
    "\n",
    "class PolicyWrapper(torch.nn.Module):\n",
    "    def __init__(self, policy_stb, dropout):\n",
    "        super().__init__()\n",
    "        self.shared = policy_stb\n",
    "        self.dropout = torch.nn.Dropout(dropout)\n",
    "    def forward(self, x):\n",
    "        x = self.shared.features_extractor(x)\n",
    "        x = self.shared.mlp_extractor.policy_net(x)\n",
    "        x = self.dropout(x)\n",
    "        x = self.shared.action_net(x)\n",
    "        return x\n",
    "\n",
    "vec_env = make_vec_env(\n",
    "    \"supertuxkart/flattened_multidiscrete-v0\", \n",
    "    n_envs=1, \n",
    "    wrapper_class=lambda x : (PreprocessObservationWrapper(x)), \n",
    "    env_kwargs={\n",
    "        'render_mode':None, 'agent':AgentSpec(use_ai=False, name=\"walid\"), 'difficulty':0,#'track':'abyss', #'num_kart':2, 'difficulty':0\n",
    "    }\n",
    ")\n",
    "vec_env.close()\n",
    "\n",
    "policy_stb = PPO('MlpPolicy', vec_env, policy_kwargs = dict(\n",
    "    net_arch=[1024,1024,1024],\n",
    "    activation_fn=torch.nn.Tanh,\n",
    ")).policy\n",
    "\n",
    "obs_dim = vec_env.observation_space.shape[0]\n",
    "action_dims = [space.n for space in vec_env.action_space]\n",
    "\n",
    "device = 'mps'\n",
    "policy = PolicyWrapper(\n",
    "    policy_stb, 0.2\n",
    ").to(device)\n",
    "\n",
    "obs_dim, action_dims"
   ]
  },
  {
   "cell_type": "code",
   "execution_count": 2,
   "metadata": {},
   "outputs": [],
   "source": [
    "import joblib, random\n",
    "from torch.optim import AdamW, Adam\n",
    "\n",
    "batch_size = 1024 * 16\n",
    "num_epochs = 1000\n",
    "device = 'mps'\n",
    "\n",
    "policy = policy.to(device)\n",
    "\n",
    "optimizer = AdamW(policy.parameters(), lr=2e-3)\n",
    "criterion = torch.nn.CrossEntropyLoss(reduction='none')\n",
    "\n",
    "# buffer1 = joblib.load('all_tracks_buffer_steps_2mil')\n",
    "# buffer2 = joblib.load('all_tracks_buffer_steps_1laps')\n",
    "\n",
    "# buffer1 = joblib.load('all_tracks_buffer_steps_xx')\n",
    "# buffer2 = joblib.load('all_tracks_buffer_steps_xxxx')\n",
    "# buffer3 = joblib.load('all_tracks_buffer_steps_hardx')\n",
    "\n",
    "# BEST 5 5 5\n",
    "buffer4 = joblib.load('all_tracks_buffer_steps_diff2')\n",
    "buffer5 = joblib.load('all_tracks_buffer_steps_diff2x')\n",
    "buffer6 = joblib.load('all_tracks_buffer_steps_diff2xx')\n",
    "buffer7 = joblib.load('all_tracks_buffer_steps_diff2xxx')\n",
    "\n",
    "# batches = [[torch.tensor(b).to(device) for b in batch] for batch in list(buffer1.get_batches(batch_size, start_step_id))]\n",
    "# batches.extend([[torch.tensor(b).to(device) for b in batch] for batch in list(buffer2.get_batches(batch_size, start_step_id))])"
   ]
  },
  {
   "cell_type": "code",
   "execution_count": 3,
   "metadata": {},
   "outputs": [],
   "source": [
    "import numpy as np\n",
    "# Combine buffers\n",
    "\n",
    "start_step_id = 30\n",
    "\n",
    "buffers = [buffer4,buffer5,buffer6, buffer7]\n",
    "size = sum([b.size for b in buffers])\n",
    "observations = torch.cat([b.observations[:b.size] for b in buffers], dim=0)\n",
    "steps = torch.cat([b.steps[:b.size] for b in buffers], dim=0)\n",
    "actions = torch.cat([torch.stack([actions for actions in b.actions]) for b in buffers], dim=1)\n",
    "\n",
    "all_indices = np.arange(0, size)\n",
    "all_indices = all_indices[steps[all_indices].flatten()>start_step_id]\n",
    "observations = observations[all_indices]\n",
    "actions = actions[:,all_indices]\n",
    "\n",
    "_,unique_indices = np.unique(observations.numpy(), axis=0, return_index=True)\n",
    "unique_indices = torch.tensor(unique_indices)\n",
    "\n",
    "unique_observations = observations[unique_indices]\n",
    "unique_actions = actions[:, unique_indices]\n",
    "\n",
    "# unique_observations = observations\n",
    "# unique_actions = actions\n",
    "\n",
    "size = unique_observations.size(0)\n",
    "\n",
    "\n",
    "\n",
    "# Result: unique_observations, unique_steps, unique_actions\n",
    "def get_batches(batch_size, ):\n",
    "    all_indices = np.arange(0, size)\n",
    "    num_batches = int(np.ceil(len(all_indices) / batch_size))\n",
    "    np.random.shuffle(all_indices)\n",
    "    for batch_idx in range(num_batches):\n",
    "        start_idx = batch_idx * batch_size\n",
    "        end_idx = min(start_idx + batch_size, len(all_indices))\n",
    "        indices = all_indices[start_idx:end_idx]\n",
    "        yield (\n",
    "            unique_observations[indices],\n",
    "            unique_actions[:,indices],\n",
    "        )\n"
   ]
  },
  {
   "cell_type": "code",
   "execution_count": 4,
   "metadata": {},
   "outputs": [
    {
     "data": {
      "text/plain": [
       "(torch.Size([154]), torch.Size([154]), torch.Size([2000028, 154]))"
      ]
     },
     "execution_count": 4,
     "metadata": {},
     "output_type": "execute_result"
    }
   ],
   "source": [
    "# valid_obs = torch.concatenate(\n",
    "#     [\n",
    "#         buffer1.observations[:buffer1.size],\n",
    "#         buffer2.observations[:buffer2.size],\n",
    "#         # buffer3.observations[:buffer3.size]\n",
    "#     ], dim=0\n",
    "# )\n",
    "mean = unique_observations.mean(dim=0).to(device)\n",
    "std = unique_observations.std(dim=0).to(device)\n",
    "mean.shape, std.shape, unique_observations.shape"
   ]
  },
  {
   "cell_type": "code",
   "execution_count": 5,
   "metadata": {},
   "outputs": [],
   "source": [
    "policy.dropout = torch.nn.Identity()"
   ]
  },
  {
   "cell_type": "code",
   "execution_count": null,
   "metadata": {},
   "outputs": [
    {
     "name": "stderr",
     "output_type": "stream",
     "text": [
      "/var/folders/5b/wsyz4crx22bg_7tpsgbw3tzw0000gn/T/ipykernel_4060/1452102833.py:10: UserWarning: To copy construct from a tensor, it is recommended to use sourceTensor.clone().detach() or sourceTensor.clone().detach().requires_grad_(True), rather than torch.tensor(sourceTensor).\n",
      "  batches = [[torch.tensor(b).to(device) for b in batch] for batch in list(get_batches(batch_size))]\n"
     ]
    }
   ],
   "source": [
    "for epoch in range(num_epochs):\n",
    "\n",
    "    policy.train()\n",
    "    total_loss = 0\n",
    "    num_batches = 0\n",
    "\n",
    "    # if epoch %10 == 0:\n",
    "        # batches = [[torch.tensor(b).to(device) for b in batch] for batch in list(buffer1.get_batches(batch_size, start_step_id))]\n",
    "        # batches.extend([[torch.tensor(b).to(device) for b in batch] for batch in list(buffer2.get_batches(batch_size, start_step_id))])\n",
    "    batches = [[torch.tensor(b).to(device) for b in batch] for batch in list(get_batches(batch_size))]\n",
    "    action_correct = [0] * len(action_dims)\n",
    "    action_total = [0] * len(action_dims)\n",
    "    \n",
    "    random.shuffle(batches)\n",
    "    \n",
    "    for batch in batches:\n",
    "        # obs, actions, rewards, next_obs, prev_obs, dones, _, _ = batch\n",
    "        obs, actions = batch\n",
    "        obs = obs \n",
    "        # mean = obs.mean(dim=1, keepdim=True)\n",
    "        # std = obs.std(dim=1, keepdim=True)\n",
    "        obs = (obs - mean.unsqueeze(0)) / (std.unsqueeze(0) + 1e-8)\n",
    "        obs = obs + torch.randn_like(obs) * 0.01\n",
    "\n",
    "        actions = actions.permute(1, 0)\n",
    "\n",
    "        outputs = policy(obs)\n",
    "        optimizer.zero_grad()\n",
    "        split_logits = torch.split(outputs, action_dims, dim=-1)\n",
    "        \n",
    "        losses = []\n",
    "        # loss_weights = ([0,0,0,0,0,0,1]) # only train steering\n",
    "        loss_weights = ([1,1,1,1,1,1,1]) # train all actions\n",
    "        loss_weights = [x/sum(loss_weights) for x in loss_weights]\n",
    "        for i in range(actions.size(1)):\n",
    "            if loss_weights[i] ==0:\n",
    "                continue\n",
    "            loss_i = torch.nn.CrossEntropyLoss()(split_logits[i], actions[:,i])\n",
    "            losses.append(loss_weights[i] * loss_i)\n",
    "            \n",
    "            # Compute accuracy\n",
    "            predicted = torch.argmax(split_logits[i], dim=1)\n",
    "            correct = (predicted == actions[:,i]).sum().item()\n",
    "            total = actions.size(0)\n",
    "            \n",
    "            action_correct[i] += correct\n",
    "            action_total[i] += total\n",
    "\n",
    "            \n",
    "        loss = sum(losses)\n",
    "        \n",
    "        loss.backward()\n",
    "        optimizer.step()\n",
    "        \n",
    "        total_loss += loss.item()\n",
    "        num_batches += 1\n",
    "    \n",
    "    avg_loss = total_loss / num_batches\n",
    "    accuracies = [correct/(total or 1) * 100 for correct, total in zip(action_correct, action_total)]\n",
    "    \n",
    "    print(f\"Epoch {epoch + 1}/{num_epochs}\")\n",
    "    print(f\"Training Loss: {avg_loss:.4f}\")\n",
    "    for i, acc in enumerate(accuracies):\n",
    "        print(f\"Action {i} Accuracy: {acc:.2f}%\")\n",
    "    print(\"-\" * 40)\n",
    "\n",
    "print(\"Training complete!\")"
   ]
  },
  {
   "cell_type": "code",
   "execution_count": 7,
   "metadata": {},
   "outputs": [],
   "source": [
    "torch.save(policy.state_dict(),'policy_normed_1024_1024_1024_Tanh_statedict_2')\n",
    "torch.save(mean,'buffer_mean_2')\n",
    "torch.save(std,'buffer_std_2')"
   ]
  }
 ],
 "metadata": {
  "kernelspec": {
   "display_name": "bbrl",
   "language": "python",
   "name": "python3"
  },
  "language_info": {
   "codemirror_mode": {
    "name": "ipython",
    "version": 3
   },
   "file_extension": ".py",
   "mimetype": "text/x-python",
   "name": "python",
   "nbconvert_exporter": "python",
   "pygments_lexer": "ipython3",
   "version": "3.10.15"
  }
 },
 "nbformat": 4,
 "nbformat_minor": 2
}
