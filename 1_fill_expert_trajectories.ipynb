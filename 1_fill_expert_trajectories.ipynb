{
 "cells": [
  {
   "cell_type": "code",
   "execution_count": null,
   "metadata": {},
   "outputs": [
    {
     "name": "stdout",
     "output_type": "stream",
     "text": [
      "running: 616\n"
     ]
    },
    {
     "name": "stderr",
     "output_type": "stream",
     "text": [
      "  0%|          | 0/616 [00:00<?, ?it/s]"
     ]
    }
   ],
   "source": [
    "import gymnasium as gym\n",
    "from pystk2_gymnasium import AgentSpec\n",
    "import tqdm\n",
    "import ipyparallel\n",
    "\n",
    "\n",
    "\n",
    "\n",
    "# Connect to the IPython cluster\n",
    "client = ipyparallel.Client()\n",
    "\n",
    "# Connect to all engines\n",
    "dview = client[:]\n",
    "\n",
    "def run_episode(arg):\n",
    "    track, difficulty, lap, num_karts = arg\n",
    "    import torch\n",
    "    import torch.nn.functional as F\n",
    "    from pystk2_gymnasium.stk_wrappers import ConstantSizedObservations, PolarObservations, DiscreteActionsWrapper\n",
    "    from pystk2_gymnasium.wrappers import FlattenerWrapper\n",
    "\n",
    "    def preprocess_observation(obs):\n",
    "        \"\"\"Convert mixed observation space to flat tensor\"\"\"\n",
    "        continuous_obs, discrete_obs = obs['continuous'], obs['discrete']\n",
    "        continuous_tensor = torch.FloatTensor(continuous_obs)\n",
    "        discrete_tensors = [\n",
    "            F.one_hot(torch.tensor(x), num_classes=num_classes.n) \n",
    "            for x, num_classes in zip(discrete_obs, env.observation_space['discrete'])\n",
    "        ]\n",
    "        return torch.cat([continuous_tensor] + discrete_tensors)\n",
    "\n",
    "    import gymnasium as gym\n",
    "    from pystk2_gymnasium import AgentSpec\n",
    "    \n",
    "    records = []\n",
    "\n",
    "    env = gym.make(\n",
    "            \"supertuxkart/full-v0\",\n",
    "            render_mode=None, \n",
    "            agent=AgentSpec(use_ai=True), \n",
    "            track=track, \n",
    "            difficulty=difficulty,\n",
    "            laps=lap,\n",
    "            num_kart=num_karts,\n",
    "    )\n",
    "    env = FlattenerWrapper(\n",
    "        DiscreteActionsWrapper(\n",
    "            PolarObservations(\n",
    "                ConstantSizedObservations(\n",
    "                    env,\n",
    "                    state_items = 10,\n",
    "                    state_karts = 10, \n",
    "                    state_paths = 10,\n",
    "                )\n",
    "            )\n",
    "        )\n",
    "    )\n",
    "\n",
    "    ix = 0\n",
    "    done = False\n",
    "    obs, *_ = env.reset()\n",
    "    prev_obs = obs\n",
    "\n",
    "    while not done:\n",
    "        ix += 1\n",
    "        action = env.action_space.sample()          \n",
    "        next_obs, reward, done, truncated, _ = env.step(action)\n",
    "        action = next_obs['action']\n",
    "\n",
    "        records.append(\n",
    "            {\n",
    "                # 'prev_obs':preprocess_observation(prev_obs), \n",
    "                'obs':preprocess_observation(obs), \n",
    "                'actions':torch.tensor(action), \n",
    "                'reward':torch.tensor(reward), \n",
    "                # 'next_obs':preprocess_observation(next_obs), \n",
    "                'done':torch.tensor(float(done or truncated)),\n",
    "                'track': track,\n",
    "                'step': ix-1,\n",
    "            }\n",
    "        )\n",
    "        prev_obs = obs\n",
    "        obs = next_obs\n",
    "\n",
    "    env.close()\n",
    "    return records\n",
    "\n",
    "# Push the run_episode function to the engines\n",
    "dview.push({'run_episode': run_episode})\n",
    "\n",
    "def parallel_run_episodes(num_episodes):\n",
    "    # Use `map` to run the function on the cluster\n",
    "    results = dview.map(run_episode, args, )\n",
    "    print('running:', len(args))\n",
    "    # Flatten results into individual lists\n",
    "    records = []\n",
    "    ix = 0\n",
    "    for rec in tqdm.tqdm(results, total=len(args)):\n",
    "        records.extend(rec)\n",
    "        # print(ix,':', len(rec),)\n",
    "\n",
    "    return records\n",
    "\n",
    "# Number of episodes to run in parallel\n",
    "tracks = [\n",
    "    # 'abyss',\n",
    "    # 'black_forest',\n",
    "    # 'candela_city',\n",
    "    # 'cocoa_temple',\n",
    "    # 'cornfield_crossing',\n",
    "    # 'fortmagma',\n",
    "    # 'gran_paradiso_island',\n",
    "    # 'lighthouse',\n",
    "    # 'mines',\n",
    "    # 'minigolf',\n",
    "    # 'olivermath',\n",
    "    # 'hacienda',\n",
    "    # 'ravenbridge_mansion',\n",
    "    # 'sandtrack',\n",
    "    # 'scotland',\n",
    "    # 'snowmountain',\n",
    "    # 'snowtuxpeak',\n",
    "    # 'stk_enterprise',\n",
    "    # 'volcano_island',\n",
    "    # 'xr591',\n",
    "    # 'zengarden',\n",
    "    # HARD\n",
    "    'fortmagma',\n",
    "    'ravenbridge_mansion',\n",
    "    'snowmountain',\n",
    "    'cocoa_temple',\n",
    "    'sandtrack',    \n",
    "    'scotland', \n",
    "    'stk_enterprise',\n",
    "    'volcano_island', # 1104\n",
    "    'xr591', # 864\n",
    "    'hacienda',\n",
    "    \"snowtuxpeak\",\n",
    "\n",
    "    # 'fortmagma',\n",
    "    # 'ravenbridge_mansion',\n",
    "    # 'snowmountain',\n",
    "    # 'cocoa_temple',\n",
    "    # 'sandtrack',    \n",
    "    # 'scotland', \n",
    "    # 'stk_enterprise',\n",
    "    # 'volcano_island', # 1104\n",
    "    # 'xr591', # 864\n",
    "    # 'hacienda',\n",
    "    # \"snowtuxpeak\",\n",
    "]\n",
    "\n",
    "args = []\n",
    "nb_runs = 4\n",
    "for lap in [3]:\n",
    "    for num_karts in [2,3,4,5,6,7,8,9,10,11,12,13,14,15]:\n",
    "        # for difficulty in [0,1,2]:\n",
    "        for difficulty in [2]:\n",
    "            for track in tracks:\n",
    "                for _ in range(nb_runs):\n",
    "                    args.append((track, difficulty, lap, num_karts))\n",
    "\n",
    "records = parallel_run_episodes(args)\n",
    "print(len(records))"
   ]
  },
  {
   "cell_type": "code",
   "execution_count": 2,
   "metadata": {},
   "outputs": [
    {
     "name": "stdout",
     "output_type": "stream",
     "text": [
      "running: 308\n"
     ]
    },
    {
     "name": "stderr",
     "output_type": "stream",
     "text": [
      "  0%|          | 0/308 [00:00<?, ?it/s]"
     ]
    }
   ],
   "source": [
    "# records.extend(parallel_run_episodes(args))\n",
    "# print(len(records))"
   ]
  },
  {
   "cell_type": "code",
   "execution_count": null,
   "metadata": {},
   "outputs": [
    {
     "name": "stdout",
     "output_type": "stream",
     "text": [
      "..:: Antarctica Rendering Engine 2.0 ::..\n"
     ]
    },
    {
     "data": {
      "text/plain": [
       "271000"
      ]
     },
     "execution_count": 3,
     "metadata": {},
     "output_type": "execute_result"
    }
   ],
   "source": [
    "from stk_actor.replay_buffer import SACRolloutBuffer, calculate_total_obs_dim\n",
    "from pystk2_gymnasium.stk_wrappers import ConstantSizedObservations, PolarObservations, DiscreteActionsWrapper\n",
    "from pystk2_gymnasium.wrappers import FlattenerWrapper\n",
    "\n",
    "buffer_size = len(records)\n",
    "\n",
    "env = gym.make(\n",
    "    \"supertuxkart/full-v0\",\n",
    "    render_mode=None,\n",
    "    agent=AgentSpec(use_ai=False, name=\"walid\"),\n",
    "    track='abyss',\n",
    "    num_kart=2,\n",
    "    difficulty=0\n",
    ")\n",
    "env = FlattenerWrapper(\n",
    "        DiscreteActionsWrapper(\n",
    "            PolarObservations(\n",
    "                ConstantSizedObservations(\n",
    "                    env,\n",
    "                    state_items = 10,\n",
    "                    state_karts = 10, \n",
    "                    state_paths = 10,\n",
    "                )\n",
    "            )\n",
    "        )\n",
    ")\n",
    "\n",
    "obs_dim = calculate_total_obs_dim(env.observation_space)\n",
    "action_dims = [space.n for space in env.action_space]\n",
    "\n",
    "buffer = SACRolloutBuffer(\n",
    "    buffer_size,\n",
    "    obs_dim=calculate_total_obs_dim(env.observation_space),\n",
    "    action_dims=[space.n for space in env.action_space]\n",
    ")\n",
    "\n",
    "env.close()\n",
    "\n",
    "buffer_size\n"
   ]
  },
  {
   "cell_type": "code",
   "execution_count": 4,
   "metadata": {},
   "outputs": [
    {
     "name": "stderr",
     "output_type": "stream",
     "text": [
      "100%|██████████| 271000/271000 [00:12<00:00, 22164.94it/s]\n"
     ]
    }
   ],
   "source": [
    "import tqdm \n",
    "for i in tqdm.tqdm(list(range(min(len(records), buffer_size)))):\n",
    "    buffer.add(**records[i])"
   ]
  },
  {
   "cell_type": "code",
   "execution_count": null,
   "metadata": {},
   "outputs": [
    {
     "data": {
      "text/plain": [
       "['all_tracks_buffer_steps_diff2_obs10x10x10xhard']"
      ]
     },
     "execution_count": 5,
     "metadata": {},
     "output_type": "execute_result"
    }
   ],
   "source": [
    "import joblib\n",
    "joblib.dump(buffer,'all_tracks_buffer_steps_diff2_obs10x10x10xhard2', compress=4)"
   ]
  }
 ],
 "metadata": {
  "kernelspec": {
   "display_name": "bbrl",
   "language": "python",
   "name": "python3"
  },
  "language_info": {
   "codemirror_mode": {
    "name": "ipython",
    "version": 3
   },
   "file_extension": ".py",
   "mimetype": "text/x-python",
   "name": "python",
   "nbconvert_exporter": "python",
   "pygments_lexer": "ipython3",
   "version": "3.10.15"
  }
 },
 "nbformat": 4,
 "nbformat_minor": 2
}
