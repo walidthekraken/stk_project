{
 "cells": [
  {
   "cell_type": "code",
   "execution_count": null,
   "metadata": {},
   "outputs": [
    {
     "name": "stdout",
     "output_type": "stream",
     "text": [
      "making 21 environments\n",
      "..:: Antarctica Rendering Engine 2.0 ::..\n"
     ]
    },
    {
     "name": "stderr",
     "output_type": "stream",
     "text": [
      "/var/folders/5b/wsyz4crx22bg_7tpsgbw3tzw0000gn/T/ipykernel_40078/3042624347.py:20: FutureWarning: You are using `torch.load` with `weights_only=False` (the current default value), which uses the default pickle module implicitly. It is possible to construct malicious pickle data which will execute arbitrary code during unpickling (See https://github.com/pytorch/pytorch/blob/main/SECURITY.md#untrusted-models for more details). In a future release, the default value for `weights_only` will be flipped to `True`. This limits the functions that could be executed during unpickling. Arbitrary objects will no longer be allowed to be loaded via this mode unless they are explicitly allowlisted by the user via `torch.serialization.add_safe_globals`. We recommend you start setting `weights_only=True` for any use case where you don't have full control of the loaded file. Please open an issue on GitHub for any issues related to this experimental feature.\n",
      "  self.mean = torch.load(path+f'{agent}/buffer_mean', map_location='cpu')\n",
      "/var/folders/5b/wsyz4crx22bg_7tpsgbw3tzw0000gn/T/ipykernel_40078/3042624347.py:21: FutureWarning: You are using `torch.load` with `weights_only=False` (the current default value), which uses the default pickle module implicitly. It is possible to construct malicious pickle data which will execute arbitrary code during unpickling (See https://github.com/pytorch/pytorch/blob/main/SECURITY.md#untrusted-models for more details). In a future release, the default value for `weights_only` will be flipped to `True`. This limits the functions that could be executed during unpickling. Arbitrary objects will no longer be allowed to be loaded via this mode unless they are explicitly allowlisted by the user via `torch.serialization.add_safe_globals`. We recommend you start setting `weights_only=True` for any use case where you don't have full control of the loaded file. Please open an issue on GitHub for any issues related to this experimental feature.\n",
      "  self.std = torch.load(path+f'{agent}/buffer_std', map_location='cpu')\n"
     ]
    },
    {
     "name": "stdout",
     "output_type": "stream",
     "text": [
      "0 (0, 'abyss')\n",
      "1 (1, 'black_forest')\n",
      "2 (2, 'candela_city')\n",
      "3 (3, 'cocoa_temple')\n",
      "4 (4, 'cornfield_crossing')\n",
      "5 (5, 'fortmagma')\n",
      "6 (6, 'gran_paradiso_island')\n",
      "7 (7, 'hacienda')\n",
      "8 (8, 'lighthouse')\n",
      "9 (9, 'mines')\n",
      "10 (10, 'minigolf')\n",
      "11 (11, 'olivermath')\n",
      "12 (12, 'ravenbridge_mansion')\n",
      "13 (13, 'sandtrack')\n",
      "14 (14, 'scotland')\n",
      "15 (15, 'snowmountain')\n",
      "16 (16, 'snowtuxpeak')\n",
      "17 (17, 'stk_enterprise')\n",
      "18 (18, 'volcano_island')\n",
      "19 (19, 'xr591')\n",
      "20 (20, 'zengarden')\n"
     ]
    },
    {
     "name": "stderr",
     "output_type": "stream",
     "text": [
      "/var/folders/5b/wsyz4crx22bg_7tpsgbw3tzw0000gn/T/ipykernel_40078/3042624347.py:327: FutureWarning: You are using `torch.load` with `weights_only=False` (the current default value), which uses the default pickle module implicitly. It is possible to construct malicious pickle data which will execute arbitrary code during unpickling (See https://github.com/pytorch/pytorch/blob/main/SECURITY.md#untrusted-models for more details). In a future release, the default value for `weights_only` will be flipped to `True`. This limits the functions that could be executed during unpickling. Arbitrary objects will no longer be allowed to be loaded via this mode unless they are explicitly allowlisted by the user via `torch.serialization.add_safe_globals`. We recommend you start setting `weights_only=True` for any use case where you don't have full control of the loaded file. Please open an issue on GitHub for any issues related to this experimental feature.\n",
      "  unified_policy.load_state_dict(torch.load(filename, map_location='cpu'))\n"
     ]
    },
    {
     "data": {
      "text/plain": [
       "<All keys matched successfully>"
      ]
     },
     "execution_count": 1,
     "metadata": {},
     "output_type": "execute_result"
    }
   ],
   "source": [
    "from stk_actor.agent import UnifiedSACPolicy\n",
    "from stk_actor.wrappers import PreprocessObservationWrapper, StuckStopWrapper, SkipFirstNStepsWrapper\n",
    "from stable_baselines3 import PPO, A2C\n",
    "from stable_baselines3.common.env_util import make_vec_env\n",
    "from pystk2_gymnasium import AgentSpec\n",
    "\n",
    "import torch\n",
    "\n",
    "path = 'stk_actor/trained_agents/'\n",
    "agent = 'normed_behavioral_cloning_num5'\n",
    "\n",
    "tracks = [\n",
    "    'abyss',\n",
    "    'black_forest',\n",
    "    'candela_city',\n",
    "    'cocoa_temple',\n",
    "    'cornfield_crossing',\n",
    "    'fortmagma',\n",
    "    'gran_paradiso_island',\n",
    "    'hacienda',\n",
    "    'lighthouse',\n",
    "    'mines',\n",
    "    'minigolf',\n",
    "    'olivermath',\n",
    "    'ravenbridge_mansion',\n",
    "    'sandtrack',\n",
    "    'scotland',\n",
    "    'snowmountain',\n",
    "    'snowtuxpeak',\n",
    "    'stk_enterprise',\n",
    "    'volcano_island',\n",
    "    'xr591',\n",
    "    'zengarden',\n",
    "\n",
    "# # #   ==================   #\n",
    "\n",
    "#     'fortmagma',\n",
    "#     'ravenbridge_mansion',\n",
    "#     'snowmountain',\n",
    "#     'cocoa_temple',\n",
    "#     'sandtrack',    \n",
    "#     'scotland', \n",
    "#     'stk_enterprise',\n",
    "#     'volcano_island', # 1104\n",
    "#     'xr591', # 864   \n",
    "]\n",
    "\n",
    "karts = [12]\n",
    "n_envs = len(tracks)*len(karts)\n",
    "\n",
    "print('making', n_envs, 'environments')\n",
    "vec_env = make_vec_env(\n",
    "    \"supertuxkart/flattened_multidiscrete-v0\",\n",
    "    # seed=12,\n",
    "    n_envs=n_envs, \n",
    "    wrapper_class=lambda x : (\n",
    "        SkipFirstNStepsWrapper(\n",
    "            StuckStopWrapper(\n",
    "                PreprocessObservationWrapper(x, ret_dict=False, norm=True, agent_name=agent),\n",
    "                n=92,\n",
    "            ), \n",
    "            n=20,\n",
    "        )\n",
    "    ), \n",
    "    env_kwargs={\n",
    "    'render_mode':None, 'agent':AgentSpec(use_ai=False, name=\"walid\"), #'track':'minigolf', \n",
    "    'laps':1,\n",
    "    'difficulty':2, \n",
    "    'num_kart':12, #'difficulty':0\n",
    "})\n",
    "\n",
    "ix = 0\n",
    "for num_kart in enumerate(karts):\n",
    "    for track in enumerate(tracks):\n",
    "        venv = vec_env.envs[ix]\n",
    "        venv.env.default_track = track\n",
    "        venv.env.num_kart = num_kart\n",
    "        print(ix, track, )\n",
    "        ix+=1\n",
    "\n",
    "net_arch=[1024,1024,1024]\n",
    "activation_fn=torch.nn.Tanh\n",
    "filename = path+f'{agent}/statedict'\n",
    "\n",
    "action_dims = [space.n for space in vec_env.action_space]\n",
    "unified_policy = UnifiedSACPolicy(\n",
    "    vec_env.observation_space, \n",
    "    action_dims, \n",
    "    net_arch=net_arch, \n",
    "    activation_fn=activation_fn\n",
    ")\n",
    "unified_policy.load_state_dict(torch.load(filename, map_location='cpu'))\n"
   ]
  },
  {
   "cell_type": "code",
   "execution_count": null,
   "metadata": {},
   "outputs": [
    {
     "name": "stdout",
     "output_type": "stream",
     "text": [
      "Using cpu device\n",
      "..:: Antarctica Rendering Engine 2.0 ::..\n",
      "..:: Antarctica Rendering Engine 2.0 ::..\n",
      "..:: Antarctica Rendering Engine 2.0 ::..\n",
      "..:: Antarctica Rendering Engine 2.0 ::..\n",
      "..:: Antarctica Rendering Engine 2.0 ::..\n",
      "..:: Antarctica Rendering Engine 2.0 ::..\n",
      "..:: Antarctica Rendering Engine 2.0 ::..\n",
      "..:: Antarctica Rendering Engine 2.0 ::..\n",
      "..:: Antarctica Rendering Engine 2.0 ::..\n",
      "..:: Antarctica Rendering Engine 2.0 ::..\n",
      "..:: Antarctica Rendering Engine 2.0 ::..\n",
      "..:: Antarctica Rendering Engine 2.0 ::..\n",
      "..:: Antarctica Rendering Engine 2.0 ::..\n",
      "..:: Antarctica Rendering Engine 2.0 ::..\n",
      "..:: Antarctica Rendering Engine 2.0 ::..\n",
      "..:: Antarctica Rendering Engine 2.0 ::..\n",
      "..:: Antarctica Rendering Engine 2.0 ::..\n",
      "..:: Antarctica Rendering Engine 2.0 ::..\n",
      "..:: Antarctica Rendering Engine 2.0 ::..\n",
      "..:: Antarctica Rendering Engine 2.0 ::..\n",
      "DOING 210 300000\n",
      "Logging to ./outputs/A2C_10\n"
     ]
    },
    {
     "data": {
      "application/vnd.jupyter.widget-view+json": {
       "model_id": "d5875b19ab1b417388e38a8250917554",
       "version_major": 2,
       "version_minor": 0
      },
      "text/plain": [
       "Output()"
      ]
     },
     "metadata": {},
     "output_type": "display_data"
    }
   ],
   "source": [
    "steps = [(\n",
    "    # 2048,\n",
    "    10*n_envs,\n",
    "    300_000,\n",
    ")]\n",
    "for n_steps, total_timesteps in steps:\n",
    "    # model = PPO(\n",
    "    #     \"MlpPolicy\", \n",
    "    #     vec_env, \n",
    "    #     verbose=1, \n",
    "    #     policy_kwargs = dict(net_arch=net_arch, activation_fn=activation_fn,),\n",
    "    #     device='cpu',\n",
    "    #     learning_rate=0.0001,\n",
    "    #     batch_size=128,\n",
    "    #     n_epochs=100,\n",
    "    #     n_steps=n_steps,\n",
    "    #     tensorboard_log=\"./outputs/\",\n",
    "    #     clip_range=0.2,\n",
    "    # )\n",
    "    model = A2C(\n",
    "        \"MlpPolicy\", \n",
    "        vec_env, \n",
    "        verbose=1, \n",
    "        policy_kwargs = dict(net_arch=net_arch, activation_fn=activation_fn,),\n",
    "        device='cpu',\n",
    "        learning_rate=0.001,\n",
    "        n_steps=n_steps,\n",
    "        tensorboard_log=\"./outputs/\",\n",
    "        use_rms_prop=False,\n",
    "        normalize_advantage=True,\n",
    "    )\n",
    "    print('DOING', n_steps, total_timesteps)\n",
    "    model.policy.load_state_dict(unified_policy.shared.state_dict())\n",
    "    model.learn(total_timesteps=total_timesteps, progress_bar=True, log_interval=1)\n"
   ]
  },
  {
   "cell_type": "markdown",
   "metadata": {},
   "source": [
    "## Saving"
   ]
  },
  {
   "cell_type": "code",
   "execution_count": null,
   "metadata": {},
   "outputs": [],
   "source": [
    "# unified_policy.shared.load_state_dict(model.policy.state_dict())\n",
    "# torch.save(unified_policy.state_dict(), 'stk_actor/trained_agents/normed_a2c_num5_best/statedict')"
   ]
  },
  {
   "cell_type": "code",
   "execution_count": null,
   "metadata": {},
   "outputs": [],
   "source": [
    "# unified_policy.shared.load_state_dict(model.policy.state_dict())\n",
    "# torch.save(unified_policy.state_dict(), 'stk_actor/trained_agents/normed_ppo_num5_best/statedict')"
   ]
  }
 ],
 "metadata": {
  "kernelspec": {
   "display_name": "bbrl",
   "language": "python",
   "name": "python3"
  },
  "language_info": {
   "codemirror_mode": {
    "name": "ipython",
    "version": 3
   },
   "file_extension": ".py",
   "mimetype": "text/x-python",
   "name": "python",
   "nbconvert_exporter": "python",
   "pygments_lexer": "ipython3",
   "version": "3.10.15"
  }
 },
 "nbformat": 4,
 "nbformat_minor": 2
}
